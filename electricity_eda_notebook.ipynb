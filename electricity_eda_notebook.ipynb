{
 "cells": [
  {
   "cell_type": "code",
   "execution_count": null,
   "metadata": {},
   "outputs": [],
   "source": [
    "# Electricity Consumption EDA - Abu Dhabi (2012–2018)\n",
    "\n",
    "import pandas as pd\n",
    "import matplotlib.pyplot as plt\n",
    "import seaborn as sns\n",
    "import plotly.express as px\n",
    "\n",
    "# Load data\n",
    "df = pd.read_csv(\"electricity_consumption_by_area-sector_2012-2018.csv\")\n",
    "\n",
    "# Basic Overview\n",
    "df.info()\n",
    "df.describe()\n",
    "\n",
    "# Yearly total consumption\n",
    "yearly = df.groupby(\"year\")[\"Consumption\"].sum().reset_index()\n",
    "plt.figure(figsize=(8,5))\n",
    "sns.lineplot(data=yearly, x=\"year\", y=\"Consumption\", marker=\"o\")\n",
    "plt.title(\"Total Electricity Consumption Over Years\")\n",
    "plt.grid(True)\n",
    "\n",
    "# Sector breakdown\n",
    "sector = df.groupby(\"Sector\")[\"Consumption\"].sum().reset_index()\n",
    "px.bar(sector, x=\"Sector\", y=\"Consumption\", title=\"Total Consumption by Sector\")\n",
    "\n",
    "# Area-Sector Heatmap\n",
    "pivot = df.pivot_table(values=\"Consumption\", index=\"Area\", columns=\"Sector\", aggfunc=\"sum\")\n",
    "plt.figure(figsize=(10,6))\n",
    "sns.heatmap(pivot, annot=True, fmt=\".0f\", cmap=\"YlGnBu\")\n",
    "plt.title(\"Electricity Consumption Heatmap (Area vs Sector)\")\n",
    "plt.tight_layout()\n"
   ]
  }
 ],
 "metadata": {
  "language_info": {
   "name": "python"
  },
  "orig_nbformat": 4
 },
 "nbformat": 4,
 "nbformat_minor": 2
}
